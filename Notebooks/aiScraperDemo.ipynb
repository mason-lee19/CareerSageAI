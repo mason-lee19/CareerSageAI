{
 "cells": [
  {
   "cell_type": "markdown",
   "metadata": {},
   "source": [
    "# Requirements:\n",
    "langchain <br>\n",
    "langchain_ollama <br>\n",
    "selenium <br>\n",
    "beaufifulsoup4 <br>\n",
    "lxml <br>\n",
    "html5lib <br>\n",
    "python-dotenv"
   ]
  },
  {
   "cell_type": "markdown",
   "metadata": {},
   "source": [
    "## Scraper"
   ]
  },
  {
   "cell_type": "code",
   "execution_count": 172,
   "metadata": {},
   "outputs": [],
   "source": [
    "import selenium.webdriver as webdriver\n",
    "from selenium.webdriver.chrome.service import Service\n",
    "\n",
    "from bs4 import BeautifulSoup"
   ]
  },
  {
   "cell_type": "code",
   "execution_count": 173,
   "metadata": {},
   "outputs": [],
   "source": [
    "def scrape_website(website):\n",
    "    print(\"Launching chrome browser...\")\n",
    "\n",
    "    chrome_driver_path = '../utils/chromedriver'\n",
    "    options = webdriver.ChromeOptions()\n",
    "    driver = webdriver.Chrome(service=Service(chrome_driver_path), options=options)\n",
    "\n",
    "    try:\n",
    "        driver.get(website)\n",
    "        print(\"Page loaded...\")\n",
    "        html = driver.page_source\n",
    "\n",
    "        return html\n",
    "    \n",
    "    finally:\n",
    "        driver.quit()\n",
    "\n",
    "def extract_body_content(html_content):\n",
    "    soup = BeautifulSoup(html_content,\"html.parser\")\n",
    "    body_content = soup.body\n",
    "\n",
    "    if body_content:\n",
    "        print(\"Content extracted...\")\n",
    "        return str(body_content)\n",
    "    \n",
    "    print(\"Unable to collect content\")\n",
    "\n",
    "def clean_body_content(body_content):\n",
    "    soup = BeautifulSoup(body_content,\"html.parser\")\n",
    "\n",
    "    for script_or_style in soup([\"script\",\"style\"]):\n",
    "        script_or_style.extract()\n",
    "\n",
    "    cleaned_content = soup.get_text(separator='\\n')\n",
    "    cleaned_content = \"\\n\".join(line.strip() for line in cleaned_content.splitlines() if line.strip())\n",
    "\n",
    "    print(\"Content cleaned...\")\n",
    "    return cleaned_content\n",
    "\n",
    "def extract_links_and_titles_from_sections(body_content):\n",
    "    soup = BeautifulSoup(body_content, \"html.parser\")\n",
    "\n",
    "    # Find all <section> elements\n",
    "    sections_data = []\n",
    "    for section in soup.find_all(\"section\"):\n",
    "        # Extract all <a> and <h4> tags within the section\n",
    "        links_and_titles = []\n",
    "        for link_tag in section.find_all(\"a\", href=True):\n",
    "            h4_tag = link_tag.find_next(\"h4\")\n",
    "            # Will need to add a check before hand in order to check if it is actually a job link\n",
    "            links_and_titles.append({\n",
    "                \"href\": link_tag[\"href\"],\n",
    "                \"title\": h4_tag.get_text(strip=True) if h4_tag else None\n",
    "            })\n",
    "        \n",
    "\n",
    "        if links_and_titles:\n",
    "            sections_data.append(links_and_titles)\n",
    "\n",
    "    print(\"Links and titles extracted from sections...\")\n",
    "    return sections_data\n",
    "\n",
    "def split_dom_content(dom_content,max_length=6000):\n",
    "    return [\n",
    "        dom_content[i:i+max_length] for i in range(0,len(dom_content),max_length)\n",
    "    ]"
   ]
  },
  {
   "cell_type": "markdown",
   "metadata": {},
   "source": [
    "# Parser"
   ]
  },
  {
   "cell_type": "markdown",
   "metadata": {},
   "source": [
    "Once Ollama is downloaded just do a 'ollama pull 'model-name'' to pull and be able to utilize the model"
   ]
  },
  {
   "cell_type": "code",
   "execution_count": 150,
   "metadata": {},
   "outputs": [],
   "source": [
    "from langchain_ollama import OllamaLLM\n",
    "from langchain_core.prompts import ChatPromptTemplate\n",
    "from dataclasses import dataclass\n",
    "import json\n",
    "import re\n",
    "\n",
    "model = OllamaLLM(model='llama3')\n",
    "\n",
    "@dataclass\n",
    "class JobData:\n",
    "    title: str\n",
    "    company: str\n",
    "    salary: str\n",
    "    location: str\n",
    "    description: str\n",
    "\n",
    "@dataclass\n",
    "class JobLinkData:\n",
    "    title: str\n",
    "    link: str\n",
    "\n",
    "# Updated template\n",
    "job_data_template = (\n",
    "    \"You are tasked with extracting specific information from the following text content: {dom_content}. \"\n",
    "    \"Please follow these instructions carefully:\\n\\n\"\n",
    "    \"1. **Extract Information:** Only extract the information that directly matches the parse description: {parse_description}.\\n\"\n",
    "    \"2. **Output Format:** Use the following JSON format to present your response:\\n\"\n",
    "    \"   [\\n\"\n",
    "    \"   {{\\n\"\n",
    "    \"       \\\"title\\\": \\\"<job title>\\\",\\n\"\n",
    "    \"       \\\"company\\\": \\\"<company name>\\\",\\n\"\n",
    "    \"       \\\"joblink\\\": \\\"<job link>\\\",\\n\"\n",
    "    \"       \\\"location\\\": \\\"<job location>\\\",\\n\"\n",
    "    \"       \\\"description\\\": \\\"<job description>\\\",\\n\"\n",
    "    \"   }}\\n\"\n",
    "    \"   ]\\n\"\n",
    "    \"4. **Misssing Information:** If there is any information for each job that is not mentioned fill that section with 'na'.\\n\"\n",
    "    \"5. **No Extra Content:** Do not include any additional text, notes, comments, or explanations in your response.\\n\"\n",
    "    \"6. **No content leading or following data:** Do not include any reponses before and after the data in its outputted format.\\n\"\n",
    "    \"6. **Empty Response:** If no information matches the description, return an empty JSON array: `[]`.\\n\"\n",
    ")\n",
    "\n",
    "job_link_template = (\n",
    "    \"You are tasked with extracting specific information from the following text content: {dom_content}. \"\n",
    "    \"Please follow these instructions carefully:\\n\\n\"\n",
    "    \"1. **Extract Information:** Only extract the information that directly matches the parse description: {parse_description}.\\n\"\n",
    "    \"2. **Output Format:** Use the following JSON format to present your response:\\n\"\n",
    "    \"   [\\n\"\n",
    "    \"   {{\\n\"\n",
    "    \"       \\\"title\\\": \\\"<job title>\\\",\\n\"\n",
    "    \"       \\\"link\\\": \\\"<href>\\\",\\n\"\n",
    "    \"   }}\\n\"\n",
    "    \"   ]\\n\"\n",
    "    \"4. **Misssing Information:** If there is any information for each job that is not mentioned fill that section with 'na'.\\n\"\n",
    "    \"5. **No Extra Content:** Do not include any additional text, notes, comments, or explanations in your response.\\n\"\n",
    "    \"6. **No content leading or following data:** Do not include any reponses before and after the data in its outputted format.\\n\"\n",
    "    \"6. **Empty Response:** If no information matches the description, return an empty JSON array: `[]`.\\n\"\n",
    ")"
   ]
  },
  {
   "cell_type": "code",
   "execution_count": 151,
   "metadata": {},
   "outputs": [],
   "source": [
    "def get_links(dom_chunks,parse_description):\n",
    "    prompt = ChatPromptTemplate.from_template(job_link_template)\n",
    "    chain = prompt | model\n",
    "\n",
    "    parsed_results = []\n",
    "\n",
    "    for i,chunk in enumerate(dom_chunks,start=1):\n",
    "        response = chain.invoke({\"dom_content\":chunk, \"parse_description\":parse_description})\n",
    "        print(f\"Parsed batch {i} of {len(dom_chunks)}\")\n",
    "\n",
    "        json_match = re.search(r\"(\\[.*\\])\", response, re.DOTALL)\n",
    "\n",
    "        try:\n",
    "            # Attempt to parse the response as JSON\n",
    "            if json_match:\n",
    "                for job in json.loads(json_match.group(1)):\n",
    "                    parsed_results.append(\n",
    "                        JobLinkData(\n",
    "                            title=job.get(\"title\", \"\"),\n",
    "                            link=job.get(\"link\", \"\")\n",
    "                        )\n",
    "                    )\n",
    "        except json.JSONDecodeError as e:\n",
    "            print(f\"Error parsing response: {e}\")\n",
    "\n",
    "    return parsed_results"
   ]
  },
  {
   "cell_type": "code",
   "execution_count": 174,
   "metadata": {},
   "outputs": [],
   "source": [
    "def parse_with_ollama(dom_chunks,parse_description):\n",
    "    prompt = ChatPromptTemplate.from_template(job_data_template)\n",
    "    chain = prompt | model\n",
    "\n",
    "    parsed_results = []\n",
    "\n",
    "    for i,chunk in enumerate(dom_chunks,start=1):\n",
    "        response = chain.invoke({\"dom_content\":chunk, \"parse_description\":parse_description})\n",
    "        print(f\"Parsed batch {i} of {len(dom_chunks)}\")\n",
    "\n",
    "        json_match = re.search(r\"(\\[.*\\])\", response, re.DOTALL)\n",
    "\n",
    "        try:\n",
    "            # Attempt to parse the response as JSON\n",
    "            if json_match:\n",
    "                for job in json.loads(json_match.group(1)):\n",
    "                    parsed_results.append(\n",
    "                        JobData(\n",
    "                            title=job.get(\"title\", \"\"),\n",
    "                            company=job.get(\"company\", \"\"),\n",
    "                            salary=job.get(\"salary\", \"Not mentioned\"),\n",
    "                            location=job.get(\"location\", \"\"),\n",
    "                            description=job.get(\"description\", \"\")\n",
    "                        )\n",
    "                    )\n",
    "        except json.JSONDecodeError as e:\n",
    "            print(f\"Error parsing response: {e}\")\n",
    "\n",
    "    return parsed_results"
   ]
  },
  {
   "cell_type": "code",
   "execution_count": 175,
   "metadata": {},
   "outputs": [],
   "source": [
    "ind_job_url = 'https://explore.jobs.netflix.net/careers/job?domain=netflix.com&pid=790299385411&query=data%20engineer&domain=netflix.com&sort_by=relevance&utm_source=Netflix%20Careersite&jobIndex=0&job_index=0'"
   ]
  },
  {
   "cell_type": "code",
   "execution_count": 134,
   "metadata": {},
   "outputs": [],
   "source": [
    "url = 'https://careers.smartrecruiters.com/WesternDigital'"
   ]
  },
  {
   "cell_type": "markdown",
   "metadata": {},
   "source": [
    "In order to make this work you have to download the chrome driver and also run it in terminal 'pwd'/chromedriver and then when it pops up with a warning you open it"
   ]
  },
  {
   "cell_type": "code",
   "execution_count": 178,
   "metadata": {},
   "outputs": [
    {
     "name": "stdout",
     "output_type": "stream",
     "text": [
      "Launching chrome browser...\n",
      "Page loaded...\n",
      "Content extracted...\n",
      "Content cleaned...\n"
     ]
    }
   ],
   "source": [
    "result = scrape_website(ind_job_url)\n",
    "body_content = extract_body_content(result)\n",
    "cleaned_content = clean_body_content(body_content)\n",
    "dom_chunks = split_dom_content(cleaned_content)"
   ]
  },
  {
   "cell_type": "code",
   "execution_count": 180,
   "metadata": {},
   "outputs": [
    {
     "name": "stdout",
     "output_type": "stream",
     "text": [
      "Parsed batch 1 of 5\n",
      "Parsed batch 2 of 5\n",
      "Parsed batch 3 of 5\n",
      "Parsed batch 4 of 5\n",
      "Parsed batch 5 of 5\n",
      "Error parsing response: Expecting value: line 3 column 14 (char 19)\n"
     ]
    }
   ],
   "source": [
    "res = parse_with_ollama(dom_chunks,parse_description='Pull all relevant job information.')"
   ]
  },
  {
   "cell_type": "code",
   "execution_count": 169,
   "metadata": {},
   "outputs": [
    {
     "name": "stdout",
     "output_type": "stream",
     "text": [
      "Launching chrome browser...\n",
      "Page loaded...\n",
      "Content extracted...\n",
      "Links and titles extracted from sections...\n"
     ]
    }
   ],
   "source": [
    "result = scrape_website(url)\n",
    "body_content = extract_body_content(result)\n",
    "#cleaned_content = clean_body_content(body_content)\n",
    "cleaned_content = extract_links_and_titles_from_sections(body_content)\n",
    "dom_chunks = split_dom_content(cleaned_content)"
   ]
  },
  {
   "cell_type": "code",
   "execution_count": 170,
   "metadata": {},
   "outputs": [
    {
     "data": {
      "text/plain": [
       "[{'section_html': '<section aria-label=\"Careers at Western Digital\" class=\"site-splash splash\" id=\"st-heroSection\"><a class=\"skipping-link js-skipping visibility--onFocus\" href=\"#st-main\">Skip hero section</a><div class=\"js-lazyloadBgImage\" style=\"\"><span class=\"splash-image js-parallax\" id=\"parallax-background\" style=\\'background-image: url(\"https://c.smartrecruiters.com/sr-careersite-image-prod-aws-dc5/606f5a8a307c314d0b94c588/f7523030-6e71-4706-86df-52e7ac48bd20?r=s3-eu-central-1\"); transform: translate3d(0px, 0px, 0px);\\'></span></div><div class=\"splash-container alignment--vertical is-search_added is-splash_added\"><div class=\"alignment-content\"><div class=\"hero splash-hero\"><div class=\"hero-wrapper wrapper\"><div class=\"hero-details details\"><h2 class=\"hero-title details-title text--pre-wrap\">Careers at Western Digital</h2></div></div></div></div></div></section>',\n",
       "  'links_and_titles': [{'href': '#st-main',\n",
       "    'title': 'Technician 2, Test Equipment Maintenance'}]},\n",
       " {'section_html': '<section>\\n<p class=\"isn-overlay-dialog-details isn-text\" data-i18n=\"ie11_sunset_notification.overlay-details\" data-i18n-params=\\'{\"VIEW_DETAILS\":{\"target\":\"_blank\",\"href\":\"https://help.smartrecruiters.com/Getting_Started/Platform/Supported_Web_Browsers\"}}\\'>You can find details about supported web browsers<a class=\"isn-ml-05\" href=\"https://help.smartrecruiters.com/Getting_Started/Platform/Supported_Web_Browsers\" target=\"_blank\">here</a>.</p>\\n</section>',\n",
       "  'links_and_titles': [{'href': 'https://help.smartrecruiters.com/Getting_Started/Platform/Supported_Web_Browsers',\n",
       "    'title': 'Technician 2, Test Equipment Maintenance'}]},\n",
       " {'section_html': '<section class=\"site-section articles\"><a class=\"skipping-link js-skipping visibility--onFocus\" href=\"#st-openings\">Skip content section</a><div class=\"wrapper\"><article class=\"article\"><div class=\"grid--gutter grid--middle\"><div class=\"column wide-8of16 medium-3of5\"><div class=\"article-body\"><p></p><p>Western Digital is committed to providing equal opportunities to all applicants and employees and will not discriminate against any applicant or employee based on their race, color, ancestry, religion (including religious dress and grooming standards), sex (including pregnancy, childbirth or related medical conditions, breastfeeding or related medical conditions), gender (including a person’s gender identity, gender expression, and gender-related appearance and behavior, whether or not stereotypically associated with the person’s assigned sex at birth), age, national origin, sexual orientation, medical condition, marital status (including domestic partnership status), physical disability, mental disability, medical condition, genetic information, protected medical and family care leave, Civil Air Patrol status, military and veteran status, or other legally protected characteristics. We also prohibit harassment of any individual on any of the characteristics listed above. Our non-discrimination policy applies to all aspects of employment. We comply with the laws and regulations set forth in the \"Equal Employment Opportunity is the Law\" poster.</p><p>Western Digital thrives on the power of diversity. We are committed to an inclusive environment where every individual can thrive through a sense of belonging, respect, and contribution. Our leaders, including managers and supervisors, actively support diversity and inclusion in the workplace. To learn more, click here.</p><p>Western Digital is committed to offering opportunities to applicants with a disability. If you need a reasonable accommodation, email us at <a href=\"mailto:Jobs.Accommodations@wdc.com\">Jobs.Accommodations@wdc.com</a>. In your email, please include a description of the specific accommodation you are requesting as well as the job title and requisition number of the position for which you are applying.</p><p><strong>COVID-19 Requirements:</strong> \\xa0Western Digital’s number one priority is the health and safety of our employees, as well as those who enter our workplace. \\xa0In accordance with recent orders, Western Digital will require all new hires to report on their vaccination status and, if fully vaccinated, provide documented proof (those who are not fully vaccinated or cannot provide such proof must be tested on a weekly basis if they are required to work on site or interact with other employees, customers, suppliers, and vendors). Employees must provide truthful and accurate information about their COVID-19 vaccination status, and, if not fully vaccinated, their testing results. Employees not in compliance with this policy will be subject to discipline. \\xa0Please also keep in mind that anyone who provides false or misleading information or documents are committing a federal criminal offense and may be subject to criminal penalties.</p><p>Western Digital reserves the right to implement policies that go beyond the minimal requirements when it believes that is in the best interest of the health and safety of our employees.<br/>\\n\\xa0</p><p><strong>NOTICE TO CANDIDATES:</strong> Western Digital has received reports of scams where a payment is requested on Western Digital’s behalf as a condition for receiving an offer of employment. Please be aware that Western Digital and its subsidiaries will never request payment as a condition for applying for a position or receiving an offer of employment. Should you encounter any such requests, please report it immediately to compliance@wdc.com.</p><p>\\xa0</p><p><span style=\"font-size:12px\">“World’s Most Ethical Companies” and “Ethisphere” names and marks are registered trademarks of Ethisphere LLC.</span></p><p></p></div></div><span class=\"column wide-1of16 medium-none small-none\"></span><div class=\"column wide-7of16 medium-2of5\"><div class=\"article-media\"><img alt=\"\" src=\"https://c.smartrecruiters.com/sr-careersite-image-prod-aws-dc5/606f5a8a307c314d0b94c588/116420a3-df86-45b9-953d-6a2a7a185386?r=s3-eu-central-1\"/></div></div></div></article></div></section>',\n",
       "  'links_and_titles': [{'href': '#st-openings',\n",
       "    'title': 'Technician 2, Test Equipment Maintenance'},\n",
       "   {'href': 'mailto:Jobs.Accommodations@wdc.com',\n",
       "    'title': 'Technician 2, Test Equipment Maintenance'}]},\n",
       " {'section_html': '<section class=\"site-section openings\" id=\"st-openings\"><a class=\"skipping-link js-skipping visibility--onFocus\" href=\"#st-footer\">Skip openings section</a><form class=\"site-search search js-search is-inactive is-hero\" id=\"st-search\" role=\"search\" style=\"top: auto;\"><fieldset class=\"search-container wrapper is-inactive\"><legend class=\"display--none\">Search job openings, e.g. \"manager\"</legend><span class=\"media media--element\"><label class=\"search-label\" for=\"st-search-input\"><span class=\"skipping\">Search job openings, e.g. \"manager\"</span><input aria-label=\\'Search job openings, e.g. \"manager\"\\' autocomplete=\"off\" class=\"search-input\" id=\"st-search-input\" name=\"search\" placeholder=\\'Search job openings, e.g. \"manager\"\\' value=\"\"/><i class=\"icon icon--loupe search-icon js-search-icon is-active\"></i></label><a class=\"button--clean icon icon--x-circle search-icon search-close js-search-close is-inactive\" href=\"/WesternDigital\"><span class=\"display--none\">Clear search results</span></a><span class=\"icon search-icon search-loading is-loading is-clicked js-search-loading\"></span></span></fieldset></form><div class=\"wrapper\"><header class=\"openings-header\"><div class=\"grid grid--middle\"><div class=\"column wide-2of3 medium-2of3\"><h2 class=\"openings-title site-title\">Jobs at Western Digital</h2></div><div class=\"column wide-1of3 medium-1of3\"><div class=\"openings-filter js-filters\"><label class=\"openings-filterItem cursor--pointer\"><input aria-label=\"Employees can work remotely\" id=\"remoteLocationFilter\" name=\"remoteLocation\" type=\"checkbox\"/><div class=\"margin--left--s\"><span>Employees can work remotely</span><i class=\"icon icon--l icon--material-earth icon--right\"></i></div></label></div></div></div><ul class=\"browse-items\"><li class=\"browse-item\"><span class=\"browse browse--label\">Browse by:</span></li><li class=\"browse-item\"><span class=\"browse button button--clean is-active\"><i class=\"browse-icon icon icon--left icon--l icon--location\"></i>Location</span></li></ul></header><div class=\"openings-body js-openings\"><div class=\"js-openings-load\" data-groups-pages=\"8\" data-more=\"/WesternDigital/api/groups\" data-page=\"0\"><section class=\"openings-section opening opening--grouped js-group\" data-qty=\"44\"><header class=\"opening-header\"><ul class=\"list--dotted title-list\"><li><h3 class=\"opening-title title display--inline-block text--default\">BangPa-in, Thailand</h3></li><li><span class=\"title\">44 jobs</span></li></ul></header><ul class=\"opening-jobs grid--gutter padding--none js-group-list\"><li class=\"opening-job job column wide-7of16 medium-1of2\"><a class=\"link--block details\" href=\"https://jobs.smartrecruiters.com/WesternDigital/744000031456430-technician-2-test-equipment-maintenance\"><h4 class=\"details-title job-title link--block-target\">Technician 2, Test Equipment Maintenance</h4><p class=\"details-desc job-desc\"><span class=\"margin--right--s\">Full-time</span></p></a></li><li class=\"opening-job job column wide-7of16 medium-1of2\"><a class=\"link--block details\" href=\"https://jobs.smartrecruiters.com/WesternDigital/744000031455940-technician-2-test-equipment-maintenance\"><h4 class=\"details-title job-title link--block-target\">Technician 2, Test Equipment Maintenance</h4><p class=\"details-desc job-desc\"><span class=\"margin--right--s\">Full-time</span></p></a></li><li class=\"opening-job job column wide-7of16 medium-1of2\"><a class=\"link--block details\" href=\"https://jobs.smartrecruiters.com/WesternDigital/744000031305515-technician-2-engineering\"><h4 class=\"details-title job-title link--block-target\">Technician 2, Engineering</h4><p class=\"details-desc job-desc\"><span class=\"margin--right--s\">Full-time</span></p></a></li><li class=\"opening-job job column wide-7of16 medium-1of2\"><a class=\"link--block details\" href=\"https://jobs.smartrecruiters.com/WesternDigital/744000031303209-technician-3-engineering\"><h4 class=\"details-title job-title link--block-target\">Technician 3, Engineering</h4><p class=\"details-desc job-desc\"><span class=\"margin--right--s\">Full-time</span></p></a></li><li class=\"opening-job job column wide-7of16 medium-1of2\"><a class=\"link--block details\" href=\"https://jobs.smartrecruiters.com/WesternDigital/744000031302057-technician-3-engineering\"><h4 class=\"details-title job-title link--block-target\">Technician 3, Engineering</h4><p class=\"details-desc job-desc\"><span class=\"margin--right--s\">Full-time</span></p></a></li><li class=\"opening-job job column wide-7of16 medium-1of2\"><a class=\"link--block details\" href=\"https://jobs.smartrecruiters.com/WesternDigital/744000031303449-technician-3-engineering\"><h4 class=\"details-title job-title link--block-target\">Technician 3, Engineering</h4><p class=\"details-desc job-desc\"><span class=\"margin--right--s\">Full-time</span></p></a></li><li class=\"opening-job job column wide-7of16 medium-1of2\"><a class=\"link--block details\" href=\"https://jobs.smartrecruiters.com/WesternDigital/744000031303409-technician-3-engineering\"><h4 class=\"details-title job-title link--block-target\">Technician 3, Engineering</h4><p class=\"details-desc job-desc\"><span class=\"margin--right--s\">Full-time</span></p></a></li><li class=\"opening-job job column wide-7of16 medium-1of2\"><a class=\"link--block details\" href=\"https://jobs.smartrecruiters.com/WesternDigital/744000031303294-technician-3-engineering\"><h4 class=\"details-title job-title link--block-target\">Technician 3, Engineering</h4><p class=\"details-desc job-desc\"><span class=\"margin--right--s\">Full-time</span></p></a></li><li class=\"opening-job job column wide-7of16 medium-1of2\"><a class=\"link--block details\" href=\"https://jobs.smartrecruiters.com/WesternDigital/744000031302945-technician-2-engineering\"><h4 class=\"details-title job-title link--block-target\">Technician 2, Engineering</h4><p class=\"details-desc job-desc\"><span class=\"margin--right--s\">Full-time</span></p></a></li><li class=\"opening-job job column wide-7of16 medium-1of2 js-more-container\"><ul class=\"list--dotted\"><li class=\"link--block-target\"><a class=\"link details-desc js-more\" data-more=\"/WesternDigital/api/more\" data-page=\"0\" data-type=\"location\" data-value=\"%20BangPa-in%2C%20TH\" href=\"?search=&amp;page=0&amp;location=%20BangPa-in%2C%20TH\">Show more jobs</a></li></ul></li></ul></section><section class=\"openings-section opening opening--grouped js-group\" data-qty=\"6\"><header class=\"opening-header\"><ul class=\"list--dotted title-list\"><li><h3 class=\"opening-title title display--inline-block text--default\">Amphoe Si Maha Phot, Thailand</h3></li><li><span class=\"title\">6 jobs</span></li></ul></header><ul class=\"opening-jobs grid--gutter padding--none js-group-list\"><li class=\"opening-job job column wide-7of16 medium-1of2\"><a class=\"link--block details\" href=\"https://jobs.smartrecruiters.com/WesternDigital/744000028543505-engineer-failure-analysis-engineering\"><h4 class=\"details-title job-title link--block-target\">Engineer, Failure Analysis Engineering</h4><p class=\"details-desc job-desc\"><span class=\"margin--right--s\">Full-time</span></p></a></li><li class=\"opening-job job column wide-7of16 medium-1of2\"><a class=\"link--block details\" href=\"https://jobs.smartrecruiters.com/WesternDigital/744000026344075-people-skill-development-coordinator\"><h4 class=\"details-title job-title link--block-target\">People Skill Development Coordinator</h4><p class=\"details-desc job-desc\"><span class=\"margin--right--s\">Full-time</span></p></a></li><li class=\"opening-job job column wide-7of16 medium-1of2\"><a class=\"link--block details\" href=\"https://jobs.smartrecruiters.com/WesternDigital/744000026124905-engineer-servo-mechanical-engineering\"><h4 class=\"details-title job-title link--block-target\">Engineer, Servo Mechanical Engineering</h4><p class=\"details-desc job-desc\"><span class=\"margin--right--s\">Full-time</span></p></a></li><li class=\"opening-job job column wide-7of16 medium-1of2\"><a class=\"link--block details\" href=\"https://jobs.smartrecruiters.com/WesternDigital/744000025717705-senior-engineer-failure-analysis-engineering-\"><h4 class=\"details-title job-title link--block-target\">Senior Engineer, Failure Analysis Engineering.</h4><p class=\"details-desc job-desc\"><span class=\"margin--right--s\">Full-time</span></p></a></li><li class=\"opening-job job column wide-7of16 medium-1of2\"><a class=\"link--block details\" href=\"https://jobs.smartrecruiters.com/WesternDigital/744000024452405-senior-engineer-product-operations-management\"><h4 class=\"details-title job-title link--block-target\">Senior Engineer, Product Operations Management</h4><p class=\"details-desc job-desc\"><span class=\"margin--right--s\">Full-time</span></p></a></li><li class=\"opening-job job column wide-7of16 medium-1of2\"><a class=\"link--block details\" href=\"https://jobs.smartrecruiters.com/WesternDigital/744000020739345-finance-planning-variance-analyst\"><h4 class=\"details-title job-title link--block-target\">Finance Planning &amp; Variance Analyst</h4><p class=\"details-desc job-desc\"><span class=\"margin--right--s\">Full-time</span></p></a></li></ul></section><section class=\"openings-section opening opening--grouped js-group\" data-qty=\"44\"><header class=\"opening-header\"><ul class=\"list--dotted title-list\"><li><h3 class=\"opening-title title display--inline-block text--default\">BangPa-in, Thailand</h3></li><li><span class=\"title\">44 jobs</span></li></ul></header><ul class=\"opening-jobs grid--gutter padding--none js-group-list\"><li class=\"opening-job job column wide-7of16 medium-1of2\"><a class=\"link--block details\" href=\"https://jobs.smartrecruiters.com/WesternDigital/744000031456430-technician-2-test-equipment-maintenance\"><h4 class=\"details-title job-title link--block-target\">Technician 2, Test Equipment Maintenance</h4><p class=\"details-desc job-desc\"><span class=\"margin--right--s\">Full-time</span></p></a></li><li class=\"opening-job job column wide-7of16 medium-1of2\"><a class=\"link--block details\" href=\"https://jobs.smartrecruiters.com/WesternDigital/744000031455940-technician-2-test-equipment-maintenance\"><h4 class=\"details-title job-title link--block-target\">Technician 2, Test Equipment Maintenance</h4><p class=\"details-desc job-desc\"><span class=\"margin--right--s\">Full-time</span></p></a></li><li class=\"opening-job job column wide-7of16 medium-1of2\"><a class=\"link--block details\" href=\"https://jobs.smartrecruiters.com/WesternDigital/744000031305515-technician-2-engineering\"><h4 class=\"details-title job-title link--block-target\">Technician 2, Engineering</h4><p class=\"details-desc job-desc\"><span class=\"margin--right--s\">Full-time</span></p></a></li><li class=\"opening-job job column wide-7of16 medium-1of2\"><a class=\"link--block details\" href=\"https://jobs.smartrecruiters.com/WesternDigital/744000031303209-technician-3-engineering\"><h4 class=\"details-title job-title link--block-target\">Technician 3, Engineering</h4><p class=\"details-desc job-desc\"><span class=\"margin--right--s\">Full-time</span></p></a></li><li class=\"opening-job job column wide-7of16 medium-1of2\"><a class=\"link--block details\" href=\"https://jobs.smartrecruiters.com/WesternDigital/744000031302057-technician-3-engineering\"><h4 class=\"details-title job-title link--block-target\">Technician 3, Engineering</h4><p class=\"details-desc job-desc\"><span class=\"margin--right--s\">Full-time</span></p></a></li><li class=\"opening-job job column wide-7of16 medium-1of2\"><a class=\"link--block details\" href=\"https://jobs.smartrecruiters.com/WesternDigital/744000031303449-technician-3-engineering\"><h4 class=\"details-title job-title link--block-target\">Technician 3, Engineering</h4><p class=\"details-desc job-desc\"><span class=\"margin--right--s\">Full-time</span></p></a></li><li class=\"opening-job job column wide-7of16 medium-1of2\"><a class=\"link--block details\" href=\"https://jobs.smartrecruiters.com/WesternDigital/744000031303409-technician-3-engineering\"><h4 class=\"details-title job-title link--block-target\">Technician 3, Engineering</h4><p class=\"details-desc job-desc\"><span class=\"margin--right--s\">Full-time</span></p></a></li><li class=\"opening-job job column wide-7of16 medium-1of2\"><a class=\"link--block details\" href=\"https://jobs.smartrecruiters.com/WesternDigital/744000031303294-technician-3-engineering\"><h4 class=\"details-title job-title link--block-target\">Technician 3, Engineering</h4><p class=\"details-desc job-desc\"><span class=\"margin--right--s\">Full-time</span></p></a></li><li class=\"opening-job job column wide-7of16 medium-1of2\"><a class=\"link--block details\" href=\"https://jobs.smartrecruiters.com/WesternDigital/744000031302945-technician-2-engineering\"><h4 class=\"details-title job-title link--block-target\">Technician 2, Engineering</h4><p class=\"details-desc job-desc\"><span class=\"margin--right--s\">Full-time</span></p></a></li><li class=\"opening-job job column wide-7of16 medium-1of2 js-more-container\"><ul class=\"list--dotted\"><li class=\"link--block-target\"><a class=\"link details-desc js-more\" data-more=\"/WesternDigital/api/more\" data-page=\"0\" data-type=\"location\" data-value=\"BangPa-in%2C%20TH\" href=\"?search=&amp;page=0&amp;location=BangPa-in%2C%20TH\">Show more jobs</a></li></ul></li></ul></section><section class=\"openings-section opening opening--grouped js-group\" data-qty=\"2\"><header class=\"opening-header\"><ul class=\"list--dotted title-list\"><li><h3 class=\"opening-title title display--inline-block text--default\">Bangalore, India</h3></li><li><span class=\"title\">2 jobs</span></li></ul></header><ul class=\"opening-jobs grid--gutter padding--none js-group-list\"><li class=\"opening-job job column wide-7of16 medium-1of2\"><a class=\"link--block details\" href=\"https://jobs.smartrecruiters.com/WesternDigital/744000031268330-analyst-4-it-security\"><h4 class=\"details-title job-title link--block-target\">Analyst 4, IT Security</h4><p class=\"details-desc job-desc\"><span class=\"margin--right--s\">Full-time</span><i class=\"icon icon--l icon--material-earth\" title=\"Employees can work remotely\"></i></p></a></li><li class=\"opening-job job column wide-7of16 medium-1of2\"><a class=\"link--block details\" href=\"https://jobs.smartrecruiters.com/WesternDigital/744000021048891-associate-general-counsel-20-years-legal\"><h4 class=\"details-title job-title link--block-target\">Associate General Counsel- 20+ years -Legal</h4><p class=\"details-desc job-desc\"><span class=\"margin--right--s\">Full-time</span><i class=\"icon icon--l icon--material-earth\" title=\"Employees can work remotely\"></i></p></a></li></ul></section><section class=\"openings-section opening opening--grouped js-group\" data-qty=\"1\"><header class=\"opening-header\"><ul class=\"list--dotted title-list\"><li><h3 class=\"opening-title title display--inline-block text--default\">Bangpa-in, Thailand</h3></li><li><span class=\"title\">1 job</span></li></ul></header><ul class=\"opening-jobs grid--gutter padding--none js-group-list\"><li class=\"opening-job job column wide-7of16 medium-1of2\"><a class=\"link--block details\" href=\"https://jobs.smartrecruiters.com/WesternDigital/744000031304792-technician-3-engineering\"><h4 class=\"details-title job-title link--block-target\">Technician 3, Engineering</h4><p class=\"details-desc job-desc\"><span class=\"margin--right--s\">Full-time</span></p></a></li></ul></section><section class=\"openings-section opening opening--grouped js-group\" data-qty=\"1\"><header class=\"opening-header\"><ul class=\"list--dotted title-list\"><li><h3 class=\"opening-title title display--inline-block text--default\">Batu Kawan , Malaysia</h3></li><li><span class=\"title\">1 job</span></li></ul></header><ul class=\"opening-jobs grid--gutter padding--none js-group-list\"><li class=\"opening-job job column wide-7of16 medium-1of2\"><a class=\"link--block details\" href=\"https://jobs.smartrecruiters.com/WesternDigital/744000030509280-program-manager-third-party-risk-management-responsible-sourcing-procurement-\"><h4 class=\"details-title job-title link--block-target\">Program Manager, Third Party Risk Management &amp; Responsible Sourcing (Procurement)</h4><p class=\"details-desc job-desc\"><span class=\"margin--right--s\">Full-time</span></p></a></li></ul></section></div></div></div></section>',\n",
       "  'links_and_titles': [{'href': '#st-footer',\n",
       "    'title': 'Technician 2, Test Equipment Maintenance'},\n",
       "   {'href': '/WesternDigital',\n",
       "    'title': 'Technician 2, Test Equipment Maintenance'},\n",
       "   {'href': 'https://jobs.smartrecruiters.com/WesternDigital/744000031456430-technician-2-test-equipment-maintenance',\n",
       "    'title': 'Technician 2, Test Equipment Maintenance'},\n",
       "   {'href': 'https://jobs.smartrecruiters.com/WesternDigital/744000031455940-technician-2-test-equipment-maintenance',\n",
       "    'title': 'Technician 2, Test Equipment Maintenance'},\n",
       "   {'href': 'https://jobs.smartrecruiters.com/WesternDigital/744000031305515-technician-2-engineering',\n",
       "    'title': 'Technician 2, Engineering'},\n",
       "   {'href': 'https://jobs.smartrecruiters.com/WesternDigital/744000031303209-technician-3-engineering',\n",
       "    'title': 'Technician 3, Engineering'},\n",
       "   {'href': 'https://jobs.smartrecruiters.com/WesternDigital/744000031302057-technician-3-engineering',\n",
       "    'title': 'Technician 3, Engineering'},\n",
       "   {'href': 'https://jobs.smartrecruiters.com/WesternDigital/744000031303449-technician-3-engineering',\n",
       "    'title': 'Technician 3, Engineering'},\n",
       "   {'href': 'https://jobs.smartrecruiters.com/WesternDigital/744000031303409-technician-3-engineering',\n",
       "    'title': 'Technician 3, Engineering'},\n",
       "   {'href': 'https://jobs.smartrecruiters.com/WesternDigital/744000031303294-technician-3-engineering',\n",
       "    'title': 'Technician 3, Engineering'},\n",
       "   {'href': 'https://jobs.smartrecruiters.com/WesternDigital/744000031302945-technician-2-engineering',\n",
       "    'title': 'Technician 2, Engineering'},\n",
       "   {'href': '?search=&page=0&location=%20BangPa-in%2C%20TH',\n",
       "    'title': 'Engineer, Failure Analysis Engineering'},\n",
       "   {'href': 'https://jobs.smartrecruiters.com/WesternDigital/744000028543505-engineer-failure-analysis-engineering',\n",
       "    'title': 'Engineer, Failure Analysis Engineering'},\n",
       "   {'href': 'https://jobs.smartrecruiters.com/WesternDigital/744000026344075-people-skill-development-coordinator',\n",
       "    'title': 'People Skill Development Coordinator'},\n",
       "   {'href': 'https://jobs.smartrecruiters.com/WesternDigital/744000026124905-engineer-servo-mechanical-engineering',\n",
       "    'title': 'Engineer, Servo Mechanical Engineering'},\n",
       "   {'href': 'https://jobs.smartrecruiters.com/WesternDigital/744000025717705-senior-engineer-failure-analysis-engineering-',\n",
       "    'title': 'Senior Engineer, Failure Analysis Engineering.'},\n",
       "   {'href': 'https://jobs.smartrecruiters.com/WesternDigital/744000024452405-senior-engineer-product-operations-management',\n",
       "    'title': 'Senior Engineer, Product Operations Management'},\n",
       "   {'href': 'https://jobs.smartrecruiters.com/WesternDigital/744000020739345-finance-planning-variance-analyst',\n",
       "    'title': 'Finance Planning & Variance Analyst'},\n",
       "   {'href': 'https://jobs.smartrecruiters.com/WesternDigital/744000031456430-technician-2-test-equipment-maintenance',\n",
       "    'title': 'Technician 2, Test Equipment Maintenance'},\n",
       "   {'href': 'https://jobs.smartrecruiters.com/WesternDigital/744000031455940-technician-2-test-equipment-maintenance',\n",
       "    'title': 'Technician 2, Test Equipment Maintenance'},\n",
       "   {'href': 'https://jobs.smartrecruiters.com/WesternDigital/744000031305515-technician-2-engineering',\n",
       "    'title': 'Technician 2, Engineering'},\n",
       "   {'href': 'https://jobs.smartrecruiters.com/WesternDigital/744000031303209-technician-3-engineering',\n",
       "    'title': 'Technician 3, Engineering'},\n",
       "   {'href': 'https://jobs.smartrecruiters.com/WesternDigital/744000031302057-technician-3-engineering',\n",
       "    'title': 'Technician 3, Engineering'},\n",
       "   {'href': 'https://jobs.smartrecruiters.com/WesternDigital/744000031303449-technician-3-engineering',\n",
       "    'title': 'Technician 3, Engineering'},\n",
       "   {'href': 'https://jobs.smartrecruiters.com/WesternDigital/744000031303409-technician-3-engineering',\n",
       "    'title': 'Technician 3, Engineering'},\n",
       "   {'href': 'https://jobs.smartrecruiters.com/WesternDigital/744000031303294-technician-3-engineering',\n",
       "    'title': 'Technician 3, Engineering'},\n",
       "   {'href': 'https://jobs.smartrecruiters.com/WesternDigital/744000031302945-technician-2-engineering',\n",
       "    'title': 'Technician 2, Engineering'},\n",
       "   {'href': '?search=&page=0&location=BangPa-in%2C%20TH',\n",
       "    'title': 'Analyst 4, IT Security'},\n",
       "   {'href': 'https://jobs.smartrecruiters.com/WesternDigital/744000031268330-analyst-4-it-security',\n",
       "    'title': 'Analyst 4, IT Security'},\n",
       "   {'href': 'https://jobs.smartrecruiters.com/WesternDigital/744000021048891-associate-general-counsel-20-years-legal',\n",
       "    'title': 'Associate General Counsel- 20+ years -Legal'},\n",
       "   {'href': 'https://jobs.smartrecruiters.com/WesternDigital/744000031304792-technician-3-engineering',\n",
       "    'title': 'Technician 3, Engineering'},\n",
       "   {'href': 'https://jobs.smartrecruiters.com/WesternDigital/744000030509280-program-manager-third-party-risk-management-responsible-sourcing-procurement-',\n",
       "    'title': 'Program Manager, Third Party Risk Management & Responsible Sourcing (Procurement)'}]},\n",
       " {'section_html': '<section class=\"openings-section opening opening--grouped js-group\" data-qty=\"44\"><header class=\"opening-header\"><ul class=\"list--dotted title-list\"><li><h3 class=\"opening-title title display--inline-block text--default\">BangPa-in, Thailand</h3></li><li><span class=\"title\">44 jobs</span></li></ul></header><ul class=\"opening-jobs grid--gutter padding--none js-group-list\"><li class=\"opening-job job column wide-7of16 medium-1of2\"><a class=\"link--block details\" href=\"https://jobs.smartrecruiters.com/WesternDigital/744000031456430-technician-2-test-equipment-maintenance\"><h4 class=\"details-title job-title link--block-target\">Technician 2, Test Equipment Maintenance</h4><p class=\"details-desc job-desc\"><span class=\"margin--right--s\">Full-time</span></p></a></li><li class=\"opening-job job column wide-7of16 medium-1of2\"><a class=\"link--block details\" href=\"https://jobs.smartrecruiters.com/WesternDigital/744000031455940-technician-2-test-equipment-maintenance\"><h4 class=\"details-title job-title link--block-target\">Technician 2, Test Equipment Maintenance</h4><p class=\"details-desc job-desc\"><span class=\"margin--right--s\">Full-time</span></p></a></li><li class=\"opening-job job column wide-7of16 medium-1of2\"><a class=\"link--block details\" href=\"https://jobs.smartrecruiters.com/WesternDigital/744000031305515-technician-2-engineering\"><h4 class=\"details-title job-title link--block-target\">Technician 2, Engineering</h4><p class=\"details-desc job-desc\"><span class=\"margin--right--s\">Full-time</span></p></a></li><li class=\"opening-job job column wide-7of16 medium-1of2\"><a class=\"link--block details\" href=\"https://jobs.smartrecruiters.com/WesternDigital/744000031303209-technician-3-engineering\"><h4 class=\"details-title job-title link--block-target\">Technician 3, Engineering</h4><p class=\"details-desc job-desc\"><span class=\"margin--right--s\">Full-time</span></p></a></li><li class=\"opening-job job column wide-7of16 medium-1of2\"><a class=\"link--block details\" href=\"https://jobs.smartrecruiters.com/WesternDigital/744000031302057-technician-3-engineering\"><h4 class=\"details-title job-title link--block-target\">Technician 3, Engineering</h4><p class=\"details-desc job-desc\"><span class=\"margin--right--s\">Full-time</span></p></a></li><li class=\"opening-job job column wide-7of16 medium-1of2\"><a class=\"link--block details\" href=\"https://jobs.smartrecruiters.com/WesternDigital/744000031303449-technician-3-engineering\"><h4 class=\"details-title job-title link--block-target\">Technician 3, Engineering</h4><p class=\"details-desc job-desc\"><span class=\"margin--right--s\">Full-time</span></p></a></li><li class=\"opening-job job column wide-7of16 medium-1of2\"><a class=\"link--block details\" href=\"https://jobs.smartrecruiters.com/WesternDigital/744000031303409-technician-3-engineering\"><h4 class=\"details-title job-title link--block-target\">Technician 3, Engineering</h4><p class=\"details-desc job-desc\"><span class=\"margin--right--s\">Full-time</span></p></a></li><li class=\"opening-job job column wide-7of16 medium-1of2\"><a class=\"link--block details\" href=\"https://jobs.smartrecruiters.com/WesternDigital/744000031303294-technician-3-engineering\"><h4 class=\"details-title job-title link--block-target\">Technician 3, Engineering</h4><p class=\"details-desc job-desc\"><span class=\"margin--right--s\">Full-time</span></p></a></li><li class=\"opening-job job column wide-7of16 medium-1of2\"><a class=\"link--block details\" href=\"https://jobs.smartrecruiters.com/WesternDigital/744000031302945-technician-2-engineering\"><h4 class=\"details-title job-title link--block-target\">Technician 2, Engineering</h4><p class=\"details-desc job-desc\"><span class=\"margin--right--s\">Full-time</span></p></a></li><li class=\"opening-job job column wide-7of16 medium-1of2 js-more-container\"><ul class=\"list--dotted\"><li class=\"link--block-target\"><a class=\"link details-desc js-more\" data-more=\"/WesternDigital/api/more\" data-page=\"0\" data-type=\"location\" data-value=\"%20BangPa-in%2C%20TH\" href=\"?search=&amp;page=0&amp;location=%20BangPa-in%2C%20TH\">Show more jobs</a></li></ul></li></ul></section>',\n",
       "  'links_and_titles': [{'href': 'https://jobs.smartrecruiters.com/WesternDigital/744000031456430-technician-2-test-equipment-maintenance',\n",
       "    'title': 'Technician 2, Test Equipment Maintenance'},\n",
       "   {'href': 'https://jobs.smartrecruiters.com/WesternDigital/744000031455940-technician-2-test-equipment-maintenance',\n",
       "    'title': 'Technician 2, Test Equipment Maintenance'},\n",
       "   {'href': 'https://jobs.smartrecruiters.com/WesternDigital/744000031305515-technician-2-engineering',\n",
       "    'title': 'Technician 2, Engineering'},\n",
       "   {'href': 'https://jobs.smartrecruiters.com/WesternDigital/744000031303209-technician-3-engineering',\n",
       "    'title': 'Technician 3, Engineering'},\n",
       "   {'href': 'https://jobs.smartrecruiters.com/WesternDigital/744000031302057-technician-3-engineering',\n",
       "    'title': 'Technician 3, Engineering'},\n",
       "   {'href': 'https://jobs.smartrecruiters.com/WesternDigital/744000031303449-technician-3-engineering',\n",
       "    'title': 'Technician 3, Engineering'},\n",
       "   {'href': 'https://jobs.smartrecruiters.com/WesternDigital/744000031303409-technician-3-engineering',\n",
       "    'title': 'Technician 3, Engineering'},\n",
       "   {'href': 'https://jobs.smartrecruiters.com/WesternDigital/744000031303294-technician-3-engineering',\n",
       "    'title': 'Technician 3, Engineering'},\n",
       "   {'href': 'https://jobs.smartrecruiters.com/WesternDigital/744000031302945-technician-2-engineering',\n",
       "    'title': 'Technician 2, Engineering'},\n",
       "   {'href': '?search=&page=0&location=%20BangPa-in%2C%20TH',\n",
       "    'title': 'Engineer, Failure Analysis Engineering'}]},\n",
       " {'section_html': '<section class=\"openings-section opening opening--grouped js-group\" data-qty=\"6\"><header class=\"opening-header\"><ul class=\"list--dotted title-list\"><li><h3 class=\"opening-title title display--inline-block text--default\">Amphoe Si Maha Phot, Thailand</h3></li><li><span class=\"title\">6 jobs</span></li></ul></header><ul class=\"opening-jobs grid--gutter padding--none js-group-list\"><li class=\"opening-job job column wide-7of16 medium-1of2\"><a class=\"link--block details\" href=\"https://jobs.smartrecruiters.com/WesternDigital/744000028543505-engineer-failure-analysis-engineering\"><h4 class=\"details-title job-title link--block-target\">Engineer, Failure Analysis Engineering</h4><p class=\"details-desc job-desc\"><span class=\"margin--right--s\">Full-time</span></p></a></li><li class=\"opening-job job column wide-7of16 medium-1of2\"><a class=\"link--block details\" href=\"https://jobs.smartrecruiters.com/WesternDigital/744000026344075-people-skill-development-coordinator\"><h4 class=\"details-title job-title link--block-target\">People Skill Development Coordinator</h4><p class=\"details-desc job-desc\"><span class=\"margin--right--s\">Full-time</span></p></a></li><li class=\"opening-job job column wide-7of16 medium-1of2\"><a class=\"link--block details\" href=\"https://jobs.smartrecruiters.com/WesternDigital/744000026124905-engineer-servo-mechanical-engineering\"><h4 class=\"details-title job-title link--block-target\">Engineer, Servo Mechanical Engineering</h4><p class=\"details-desc job-desc\"><span class=\"margin--right--s\">Full-time</span></p></a></li><li class=\"opening-job job column wide-7of16 medium-1of2\"><a class=\"link--block details\" href=\"https://jobs.smartrecruiters.com/WesternDigital/744000025717705-senior-engineer-failure-analysis-engineering-\"><h4 class=\"details-title job-title link--block-target\">Senior Engineer, Failure Analysis Engineering.</h4><p class=\"details-desc job-desc\"><span class=\"margin--right--s\">Full-time</span></p></a></li><li class=\"opening-job job column wide-7of16 medium-1of2\"><a class=\"link--block details\" href=\"https://jobs.smartrecruiters.com/WesternDigital/744000024452405-senior-engineer-product-operations-management\"><h4 class=\"details-title job-title link--block-target\">Senior Engineer, Product Operations Management</h4><p class=\"details-desc job-desc\"><span class=\"margin--right--s\">Full-time</span></p></a></li><li class=\"opening-job job column wide-7of16 medium-1of2\"><a class=\"link--block details\" href=\"https://jobs.smartrecruiters.com/WesternDigital/744000020739345-finance-planning-variance-analyst\"><h4 class=\"details-title job-title link--block-target\">Finance Planning &amp; Variance Analyst</h4><p class=\"details-desc job-desc\"><span class=\"margin--right--s\">Full-time</span></p></a></li></ul></section>',\n",
       "  'links_and_titles': [{'href': 'https://jobs.smartrecruiters.com/WesternDigital/744000028543505-engineer-failure-analysis-engineering',\n",
       "    'title': 'Engineer, Failure Analysis Engineering'},\n",
       "   {'href': 'https://jobs.smartrecruiters.com/WesternDigital/744000026344075-people-skill-development-coordinator',\n",
       "    'title': 'People Skill Development Coordinator'},\n",
       "   {'href': 'https://jobs.smartrecruiters.com/WesternDigital/744000026124905-engineer-servo-mechanical-engineering',\n",
       "    'title': 'Engineer, Servo Mechanical Engineering'},\n",
       "   {'href': 'https://jobs.smartrecruiters.com/WesternDigital/744000025717705-senior-engineer-failure-analysis-engineering-',\n",
       "    'title': 'Senior Engineer, Failure Analysis Engineering.'},\n",
       "   {'href': 'https://jobs.smartrecruiters.com/WesternDigital/744000024452405-senior-engineer-product-operations-management',\n",
       "    'title': 'Senior Engineer, Product Operations Management'},\n",
       "   {'href': 'https://jobs.smartrecruiters.com/WesternDigital/744000020739345-finance-planning-variance-analyst',\n",
       "    'title': 'Finance Planning & Variance Analyst'}]},\n",
       " {'section_html': '<section class=\"openings-section opening opening--grouped js-group\" data-qty=\"44\"><header class=\"opening-header\"><ul class=\"list--dotted title-list\"><li><h3 class=\"opening-title title display--inline-block text--default\">BangPa-in, Thailand</h3></li><li><span class=\"title\">44 jobs</span></li></ul></header><ul class=\"opening-jobs grid--gutter padding--none js-group-list\"><li class=\"opening-job job column wide-7of16 medium-1of2\"><a class=\"link--block details\" href=\"https://jobs.smartrecruiters.com/WesternDigital/744000031456430-technician-2-test-equipment-maintenance\"><h4 class=\"details-title job-title link--block-target\">Technician 2, Test Equipment Maintenance</h4><p class=\"details-desc job-desc\"><span class=\"margin--right--s\">Full-time</span></p></a></li><li class=\"opening-job job column wide-7of16 medium-1of2\"><a class=\"link--block details\" href=\"https://jobs.smartrecruiters.com/WesternDigital/744000031455940-technician-2-test-equipment-maintenance\"><h4 class=\"details-title job-title link--block-target\">Technician 2, Test Equipment Maintenance</h4><p class=\"details-desc job-desc\"><span class=\"margin--right--s\">Full-time</span></p></a></li><li class=\"opening-job job column wide-7of16 medium-1of2\"><a class=\"link--block details\" href=\"https://jobs.smartrecruiters.com/WesternDigital/744000031305515-technician-2-engineering\"><h4 class=\"details-title job-title link--block-target\">Technician 2, Engineering</h4><p class=\"details-desc job-desc\"><span class=\"margin--right--s\">Full-time</span></p></a></li><li class=\"opening-job job column wide-7of16 medium-1of2\"><a class=\"link--block details\" href=\"https://jobs.smartrecruiters.com/WesternDigital/744000031303209-technician-3-engineering\"><h4 class=\"details-title job-title link--block-target\">Technician 3, Engineering</h4><p class=\"details-desc job-desc\"><span class=\"margin--right--s\">Full-time</span></p></a></li><li class=\"opening-job job column wide-7of16 medium-1of2\"><a class=\"link--block details\" href=\"https://jobs.smartrecruiters.com/WesternDigital/744000031302057-technician-3-engineering\"><h4 class=\"details-title job-title link--block-target\">Technician 3, Engineering</h4><p class=\"details-desc job-desc\"><span class=\"margin--right--s\">Full-time</span></p></a></li><li class=\"opening-job job column wide-7of16 medium-1of2\"><a class=\"link--block details\" href=\"https://jobs.smartrecruiters.com/WesternDigital/744000031303449-technician-3-engineering\"><h4 class=\"details-title job-title link--block-target\">Technician 3, Engineering</h4><p class=\"details-desc job-desc\"><span class=\"margin--right--s\">Full-time</span></p></a></li><li class=\"opening-job job column wide-7of16 medium-1of2\"><a class=\"link--block details\" href=\"https://jobs.smartrecruiters.com/WesternDigital/744000031303409-technician-3-engineering\"><h4 class=\"details-title job-title link--block-target\">Technician 3, Engineering</h4><p class=\"details-desc job-desc\"><span class=\"margin--right--s\">Full-time</span></p></a></li><li class=\"opening-job job column wide-7of16 medium-1of2\"><a class=\"link--block details\" href=\"https://jobs.smartrecruiters.com/WesternDigital/744000031303294-technician-3-engineering\"><h4 class=\"details-title job-title link--block-target\">Technician 3, Engineering</h4><p class=\"details-desc job-desc\"><span class=\"margin--right--s\">Full-time</span></p></a></li><li class=\"opening-job job column wide-7of16 medium-1of2\"><a class=\"link--block details\" href=\"https://jobs.smartrecruiters.com/WesternDigital/744000031302945-technician-2-engineering\"><h4 class=\"details-title job-title link--block-target\">Technician 2, Engineering</h4><p class=\"details-desc job-desc\"><span class=\"margin--right--s\">Full-time</span></p></a></li><li class=\"opening-job job column wide-7of16 medium-1of2 js-more-container\"><ul class=\"list--dotted\"><li class=\"link--block-target\"><a class=\"link details-desc js-more\" data-more=\"/WesternDigital/api/more\" data-page=\"0\" data-type=\"location\" data-value=\"BangPa-in%2C%20TH\" href=\"?search=&amp;page=0&amp;location=BangPa-in%2C%20TH\">Show more jobs</a></li></ul></li></ul></section>',\n",
       "  'links_and_titles': [{'href': 'https://jobs.smartrecruiters.com/WesternDigital/744000031456430-technician-2-test-equipment-maintenance',\n",
       "    'title': 'Technician 2, Test Equipment Maintenance'},\n",
       "   {'href': 'https://jobs.smartrecruiters.com/WesternDigital/744000031455940-technician-2-test-equipment-maintenance',\n",
       "    'title': 'Technician 2, Test Equipment Maintenance'},\n",
       "   {'href': 'https://jobs.smartrecruiters.com/WesternDigital/744000031305515-technician-2-engineering',\n",
       "    'title': 'Technician 2, Engineering'},\n",
       "   {'href': 'https://jobs.smartrecruiters.com/WesternDigital/744000031303209-technician-3-engineering',\n",
       "    'title': 'Technician 3, Engineering'},\n",
       "   {'href': 'https://jobs.smartrecruiters.com/WesternDigital/744000031302057-technician-3-engineering',\n",
       "    'title': 'Technician 3, Engineering'},\n",
       "   {'href': 'https://jobs.smartrecruiters.com/WesternDigital/744000031303449-technician-3-engineering',\n",
       "    'title': 'Technician 3, Engineering'},\n",
       "   {'href': 'https://jobs.smartrecruiters.com/WesternDigital/744000031303409-technician-3-engineering',\n",
       "    'title': 'Technician 3, Engineering'},\n",
       "   {'href': 'https://jobs.smartrecruiters.com/WesternDigital/744000031303294-technician-3-engineering',\n",
       "    'title': 'Technician 3, Engineering'},\n",
       "   {'href': 'https://jobs.smartrecruiters.com/WesternDigital/744000031302945-technician-2-engineering',\n",
       "    'title': 'Technician 2, Engineering'},\n",
       "   {'href': '?search=&page=0&location=BangPa-in%2C%20TH',\n",
       "    'title': 'Analyst 4, IT Security'}]},\n",
       " {'section_html': '<section class=\"openings-section opening opening--grouped js-group\" data-qty=\"2\"><header class=\"opening-header\"><ul class=\"list--dotted title-list\"><li><h3 class=\"opening-title title display--inline-block text--default\">Bangalore, India</h3></li><li><span class=\"title\">2 jobs</span></li></ul></header><ul class=\"opening-jobs grid--gutter padding--none js-group-list\"><li class=\"opening-job job column wide-7of16 medium-1of2\"><a class=\"link--block details\" href=\"https://jobs.smartrecruiters.com/WesternDigital/744000031268330-analyst-4-it-security\"><h4 class=\"details-title job-title link--block-target\">Analyst 4, IT Security</h4><p class=\"details-desc job-desc\"><span class=\"margin--right--s\">Full-time</span><i class=\"icon icon--l icon--material-earth\" title=\"Employees can work remotely\"></i></p></a></li><li class=\"opening-job job column wide-7of16 medium-1of2\"><a class=\"link--block details\" href=\"https://jobs.smartrecruiters.com/WesternDigital/744000021048891-associate-general-counsel-20-years-legal\"><h4 class=\"details-title job-title link--block-target\">Associate General Counsel- 20+ years -Legal</h4><p class=\"details-desc job-desc\"><span class=\"margin--right--s\">Full-time</span><i class=\"icon icon--l icon--material-earth\" title=\"Employees can work remotely\"></i></p></a></li></ul></section>',\n",
       "  'links_and_titles': [{'href': 'https://jobs.smartrecruiters.com/WesternDigital/744000031268330-analyst-4-it-security',\n",
       "    'title': 'Analyst 4, IT Security'},\n",
       "   {'href': 'https://jobs.smartrecruiters.com/WesternDigital/744000021048891-associate-general-counsel-20-years-legal',\n",
       "    'title': 'Associate General Counsel- 20+ years -Legal'}]},\n",
       " {'section_html': '<section class=\"openings-section opening opening--grouped js-group\" data-qty=\"1\"><header class=\"opening-header\"><ul class=\"list--dotted title-list\"><li><h3 class=\"opening-title title display--inline-block text--default\">Bangpa-in, Thailand</h3></li><li><span class=\"title\">1 job</span></li></ul></header><ul class=\"opening-jobs grid--gutter padding--none js-group-list\"><li class=\"opening-job job column wide-7of16 medium-1of2\"><a class=\"link--block details\" href=\"https://jobs.smartrecruiters.com/WesternDigital/744000031304792-technician-3-engineering\"><h4 class=\"details-title job-title link--block-target\">Technician 3, Engineering</h4><p class=\"details-desc job-desc\"><span class=\"margin--right--s\">Full-time</span></p></a></li></ul></section>',\n",
       "  'links_and_titles': [{'href': 'https://jobs.smartrecruiters.com/WesternDigital/744000031304792-technician-3-engineering',\n",
       "    'title': 'Technician 3, Engineering'}]},\n",
       " {'section_html': '<section class=\"openings-section opening opening--grouped js-group\" data-qty=\"1\"><header class=\"opening-header\"><ul class=\"list--dotted title-list\"><li><h3 class=\"opening-title title display--inline-block text--default\">Batu Kawan , Malaysia</h3></li><li><span class=\"title\">1 job</span></li></ul></header><ul class=\"opening-jobs grid--gutter padding--none js-group-list\"><li class=\"opening-job job column wide-7of16 medium-1of2\"><a class=\"link--block details\" href=\"https://jobs.smartrecruiters.com/WesternDigital/744000030509280-program-manager-third-party-risk-management-responsible-sourcing-procurement-\"><h4 class=\"details-title job-title link--block-target\">Program Manager, Third Party Risk Management &amp; Responsible Sourcing (Procurement)</h4><p class=\"details-desc job-desc\"><span class=\"margin--right--s\">Full-time</span></p></a></li></ul></section>',\n",
       "  'links_and_titles': [{'href': 'https://jobs.smartrecruiters.com/WesternDigital/744000030509280-program-manager-third-party-risk-management-responsible-sourcing-procurement-',\n",
       "    'title': 'Program Manager, Third Party Risk Management & Responsible Sourcing (Procurement)'}]}]"
      ]
     },
     "execution_count": 170,
     "metadata": {},
     "output_type": "execute_result"
    }
   ],
   "source": [
    "cleaned_content"
   ]
  },
  {
   "cell_type": "code",
   "execution_count": 152,
   "metadata": {},
   "outputs": [
    {
     "name": "stdout",
     "output_type": "stream",
     "text": [
      "Parsed batch 1 of 1\n"
     ]
    }
   ],
   "source": [
    "links = get_links(dom_chunks, 'Extract all job information that includes job titles as title and listed job href as link.')"
   ]
  },
  {
   "cell_type": "code",
   "execution_count": 156,
   "metadata": {},
   "outputs": [
    {
     "data": {
      "text/plain": [
       "[JobLinkData(title='Analyst 4, IT Security', link='https://jobs.smartrecruiters.com/WesternDigital/744000031268330-analyst-4-it-security'),\n",
       " JobLinkData(title='Associate General Counsel- 20+ years -Legal', link='https://jobs.smartrecruiters.com/WesternDigital/744000021048891-associate-general-counsel-20-years-legal'),\n",
       " JobLinkData(title='Technician 3, Engineering', link='https://jobs.smartrecruiters.com/WesternDigital/744000031304792-technician-3-engineering'),\n",
       " JobLinkData(title='Program Manager, Third Party Risk Management & Responsible Sourcing (Procurement)', link='https://jobs.smartrecruiters.com/WesternDigital/744000030509280-program-manager-third-party-risk-management-responsible-sourcing-procurement-')]"
      ]
     },
     "execution_count": 156,
     "metadata": {},
     "output_type": "execute_result"
    }
   ],
   "source": [
    "links"
   ]
  },
  {
   "cell_type": "code",
   "execution_count": null,
   "metadata": {},
   "outputs": [],
   "source": []
  }
 ],
 "metadata": {
  "kernelspec": {
   "display_name": "py310Venv",
   "language": "python",
   "name": "python3"
  },
  "language_info": {
   "codemirror_mode": {
    "name": "ipython",
    "version": 3
   },
   "file_extension": ".py",
   "mimetype": "text/x-python",
   "name": "python",
   "nbconvert_exporter": "python",
   "pygments_lexer": "ipython3",
   "version": "3.10.15"
  }
 },
 "nbformat": 4,
 "nbformat_minor": 2
}
