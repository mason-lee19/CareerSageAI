{
 "cells": [
  {
   "cell_type": "code",
   "execution_count": 11,
   "metadata": {},
   "outputs": [],
   "source": [
    "import joblib\n",
    "import json\n",
    "from typing import List\n",
    "import sqlite3\n",
    "import numpy as np\n",
    "import pandas as pd\n",
    "import os\n",
    "from dotenv import load_dotenv\n",
    "import ollama\n",
    "import unicodedata\n",
    "from langchain.docstore.document import Document\n",
    "from langchain.document_loaders.base import BaseLoader\n",
    "from langchain.embeddings.base import Embeddings\n",
    "from langchain.vectorstores import FAISS\n",
    "from langchain.text_splitter import RecursiveCharacterTextSplitter, CharacterTextSplitter\n",
    "from langchain.llms import Ollama\n",
    "from langchain.chains import RetrievalQA"
   ]
  },
  {
   "cell_type": "code",
   "execution_count": 12,
   "metadata": {},
   "outputs": [],
   "source": [
    "class DataBaseLoader():\n",
    "    def __init__(self,file_path,table_name):\n",
    "        self.file_path = file_path\n",
    "        self.table_name = table_name\n",
    "\n",
    "        self.conn = sqlite3.connect(self.file_path)\n",
    "        self.cursor = self.conn.cursor()\n",
    "\n",
    "    def load(self) -> pd.DataFrame:\n",
    "        query = f\"SELECT * FROM {self.table_name}\"\n",
    "        df = pd.read_sql_query(query, self.conn)\n",
    "\n",
    "        documents = []\n",
    "        for idx,row in df.iterrows():\n",
    "            content = row['jobDetails']\n",
    "            metadata = {\n",
    "                \"url\":row['jobLink'],\n",
    "                \"title\":row['jobTitle']\n",
    "            }\n",
    "            documents.append(Document(page_content=content,metadata=metadata))\n",
    "\n",
    "        return documents\n",
    "\n",
    "    \n",
    "\n",
    "dbLoader = DataBaseLoader('../data/db.db','job_data')\n",
    "documents = dbLoader.load()"
   ]
  },
  {
   "cell_type": "code",
   "execution_count": 17,
   "metadata": {},
   "outputs": [],
   "source": [
    "class OllamaEmbeddings(Embeddings):\n",
    "    def __init__(self,model=\"mxbai-embed-large\"):\n",
    "        self.model=model\n",
    "\n",
    "    def embed_documents(self,texts):\n",
    "        return [self.embed_query(text) for text in texts]\n",
    "    \n",
    "    def embed_query(self,text):\n",
    "        response = ollama.embeddings(model=self.model,prompt=text.replace(u'\\u00a0',u' '))\n",
    "        return response[\"embedding\"]"
   ]
  },
  {
   "cell_type": "code",
   "execution_count": 14,
   "metadata": {},
   "outputs": [],
   "source": [
    "text_splitter = CharacterTextSplitter(chunk_size=200,chunk_overlap=10)\n",
    "texts=text_splitter.split_documents(documents)"
   ]
  },
  {
   "cell_type": "code",
   "execution_count": 15,
   "metadata": {},
   "outputs": [],
   "source": [
    "text_splitter = RecursiveCharacterTextSplitter(\n",
    "    chunk_size=500,\n",
    "    chunk_overlap=20,\n",
    "    length_function=len,\n",
    "    separators=[\"\\n\\n\",\"\\n\",\" \",\"\"]\n",
    ")\n",
    "texts = text_splitter.split_documents(documents)"
   ]
  },
  {
   "cell_type": "markdown",
   "metadata": {},
   "source": [
    "#### To use ollama embeddings\n",
    "- Downloaded ollama locally https://github.com/ollama/ollama?tab=readme-ov-file\n",
    "- pulled model locally > ollama pull mxbai-embed-large"
   ]
  },
  {
   "cell_type": "code",
   "execution_count": 19,
   "metadata": {},
   "outputs": [],
   "source": [
    "embeddings = OllamaEmbeddings()\n",
    "\n",
    "vector_store = FAISS.from_documents(texts,embeddings)"
   ]
  },
  {
   "cell_type": "code",
   "execution_count": 20,
   "metadata": {},
   "outputs": [],
   "source": [
    "retriever = vector_store.as_retriever()\n",
    "retriever = vector_store.as_retriever(search_type='mmr',search_kwargs={'k':10})"
   ]
  },
  {
   "cell_type": "code",
   "execution_count": 25,
   "metadata": {},
   "outputs": [],
   "source": [
    "import PyPDF2\n",
    "import re"
   ]
  },
  {
   "cell_type": "code",
   "execution_count": 30,
   "metadata": {},
   "outputs": [],
   "source": [
    "def read_resume(file_path):\n",
    "    with open(file_path, 'rb') as file:\n",
    "        reader = PyPDF2.PdfReader(file)\n",
    "        text = ''\n",
    "        for page_num in range(len(reader.pages)):\n",
    "            text += reader.pages[page_num].extract_text()\n",
    "    return text\n",
    "\n",
    "def clean_text(text):\n",
    "    text = re.sub(r'[^a-zA-Z0-9\\s]','',text)\n",
    "    text = re.sub(r'\\xa0','',text)\n",
    "    return text\n",
    "\n",
    "resume_text = clean_text(read_resume('../data/MasonLee_Resume.pdf'))"
   ]
  },
  {
   "cell_type": "code",
   "execution_count": 32,
   "metadata": {},
   "outputs": [
    {
     "data": {
      "text/plain": [
       "[Document(metadata={'url': 'https://www.indeed.com/rc/clk?jk=25fc39674dc43d5e&bb=DGUfQVEJ0zRJcR3fZxzGnlHCVniLNORnl3NL-XTA4-i-jGsfT4xyvTsupoBS6hjUvqnXfYCDkzgAq2L78uwsdN4quFrWnXx-zPq9R2H4odjrRWSW3-kPGe1FMlmq7PGH&xkcb=SoDA67M36bD1-7wv6Z0FbzkdCdPP&fccid=4f46a80a0b4401fe&vjs=3', 'title': 'Staff Data Engineer'}, page_content='and determine the desired insights to extract. The ideal candidate will excel in translating business requirements into a technical roadmap and developing remarkable solutions to satisfy those needs.    Educational BackgroundB.S. degree in Computer Science, Software Engineering, Electrical Engineering, Bioengineering, or related technical fields involving algorithms or coding (e.g., Physics or Mathematics). Professional Experience10+ years of data engineering / software development experience'),\n",
       " Document(metadata={'url': 'https://www.indeed.com/rc/clk?jk=21f38ec02c730eb6&bb=eMSLhjA9uv7WNxvHP6iyNhX9k1k5K5nU2ObTUPP9GTlopBrdguSKxTKxbehRmKYRCP03xIjftNxlAhVwSTda5JvvdDa8H1c7fraW7npBVBadRCVc_jTZcw%3D%3D&xkcb=SoDb67M36bD247Sg2h0MbzkdCdPP&fccid=66403b30a2c0d89c&vjs=3', 'title': 'Data Engineer (L5) - Games'}, page_content='Product:You’ll take ownership and increase automation and scale of complex data sets that drive use cases by our analytical partners. This includes games ‘impression’ data (how are users finding our games?) as well as game platform data (what is the usage and health of our game backend features)You’ll build robust data pipelines that output very high data quality at scale using any combination of Spark, Flink, Python and Scala.You’ll collaborate with our logging infrastructure team to develop'),\n",
       " Document(metadata={'url': 'https://www.indeed.com/rc/clk?jk=14a8d3f23f7058ff&bb=eMSLhjA9uv7WNxvHP6iyNqC8eP6tUk8EcGG0LNW0RXHesS6CAt9TZujNZOC3yomS50PhB6omoblpuXqSpHQ6cnOQzuIyZNYif6Yw805cqaWAhEA2bLkEl0mzKRy_epXd&xkcb=SoCv67M36bD247Sg2h0AbzkdCdPP&fccid=caed318a9335aac0&vjs=3', 'title': 'Backend Software Engineer Graduate (Data Platform) - 2025 Start (BS/MS)'}, page_content='and document the design/specifications.Demonstrate passion for quality and productivity by using efficient development techniques, standards and guidelines.Drive the design, to build, execute, and maintain automated tests and/or manage deep data profiling runs to ensure data products and pipelines meet expectationsPartner with analysts, engineers, subject matter experts, and product managers to apply TikTok Multimedia analytical and quality methods to satisfy client needs.Participate in the'),\n",
       " Document(metadata={'url': 'https://www.indeed.com/rc/clk?jk=cf8d5aed05e5ce6f&bb=eMSLhjA9uv7WNxvHP6iyNssDpPuZcw8r-eKg-VG5zry_yt_bq4yR_o7rlwS76moSYsOg148yzJj7v3Xk91nY2YPIIis7PZ9LgF_q4fLbJDrEc1ScCwHLtCI_-Z_KYmrU&xkcb=SoCV67M36bD247Sg2h0GbzkdCdPP&fccid=2df6a1e69a70a1e7&vjs=3', 'title': 'Data Engineer with Pyspark (Onsite)'}, page_content='data resources into informative, meaningful intelligence.Location: Mountainview, CA (Onsite)Job SummaryLooking for Data Engineer with Pyspark and AWS skillsResponsibilities1) Requirement understanding and gathering2) Design and develop data pipelines for new module3) Unit testing and help UAT team for any issues4) Upload all the deliverables in Git and help prod team to deploy the code in prodDesign and implement robust data transformation pipelines using pysparkDevelop and maintain a scalable'),\n",
       " Document(metadata={'url': 'https://www.indeed.com/rc/clk?jk=d0b41e5104819f0d&bb=DGUfQVEJ0zRJcR3fZxzGnraH5gPTVE0nKuNRnJVSBYDe6meK6d8HcE5mzNtSVOs0f_U8vdvtve_bHUi-he0k8qVdu8XNxOUl1hhBK7rx-U45IO-Y2RC6Ig%3D%3D&xkcb=SoBO67M36bD1-7wv6Z0CbzkdCdPP&fccid=f89deb5a97c7738a&vjs=3', 'title': 'Generative AI/Machine Learning Engineer and Data Scientist'}, page_content=\"prompt engineering, fine-tuning, Retrieval-Augmented Generation (RAG), and related technologies. This role requires a deep understanding of marketing performance metrics and the ability to integrate the latest advancements in Generative AI into our marketing products and practices, both internal and customer-facing. The successful candidate will also be skilled at adapting Generative AI models for various data science problems. What you'll Do Develop, fine-tune, and deploy large language models\"),\n",
       " Document(metadata={'url': 'https://www.indeed.com/rc/clk?jk=d43436a1e11e0963&bb=eMSLhjA9uv7WNxvHP6iyNo_xK-sczk9YkORXqGq_jGPVJ2-LrT-dPG1fBXeSUVmRg7m5myVOs9YbYiEX0eJCGP4XKg9xQEVqAkIrl_MH5zcleN8OYTXZB8sYlkp586cy&xkcb=SoDI67M36bD247Sg2h0IbzkdCdPP&fccid=6f4474b4bed9567b&vjs=3', 'title': 'Software Engineer, Data Warehouse'}, page_content='stakeholders and get to know their common pain points, evaluate their common needs and finally turn them into internal warehouse tables or data services.Be the POC of commonly used company-wide metrics.Design warehouse layers, warehouse tables, ETL pipelines and make sure all results get delivered in a timely manner.Meet with ML Engineers, Data Scientists, Data Analysts, provide data sets for them for ML training and data insight analysis.Build company-wide dashboards for long-term'),\n",
       " Document(metadata={'url': 'https://www.indeed.com/rc/clk?jk=853c03f5baacd62c&bb=eMSLhjA9uv7WNxvHP6iyNiNqqRW38J6PtXx65reMZCk6FKKlNlvmVXoUVUkoqULa1VYz73cwMOOD6gvELSUUmE0DDdb1UZHjPzHW-0WbS3m_VEaw-kMNkA%3D%3D&xkcb=SoDh67M36bD247Sg2h0KbzkdCdPP&fccid=66403b30a2c0d89c&vjs=3', 'title': 'Analytics Engineer (L5) - Member Data Products'}, page_content='and non-technical audiences; highly effective at developing meaningful stakeholder relationships and deep domain expertiseComfort with ambiguity; ability to thrive with minimal oversight and processHighly fluent in SQL for working with big dataProficient with scripting languages such as Python; familiarity with Scala is a plusExperienced in engineering data pipelines and orchestrating workflowsPassion for exploring and improving technical datasets and loggingFamiliarity with software'),\n",
       " Document(metadata={'url': 'https://www.indeed.com/rc/clk?jk=b1c97eaabebd5d62&bb=DGUfQVEJ0zRJcR3fZxzGnhaEN06hTNxAljewK-C0e2nz6m8Lc1-MHJ15Tm89HoeSZOkDbeCsC0UB2mhQTVKyGdgVyWU07gc_zNbbFBvVN8EyaJYujlSBVNdXijRklMzo&xkcb=SoD667M36bD1-7wv6Z0DbzkdCdPP&fccid=caed318a9335aac0&vjs=3', 'title': 'Data Engineer, Financial Crimes - USDS'}, page_content='Tableau, Power BI, matplotlib).Familiarity with big data technologies and distributed computing platforms (e.g., Hadoop, Spark).Experience working with transaction monitoring, sanction screening or KYC technologies, with knowledge of financial crime compliance regulations and methodologies, including anti-money laundering (AML) and know your customer (KYC) requirements.Strong communication skills and the ability to translate technical concepts into clear and concise insights for non-technical'),\n",
       " Document(metadata={'url': 'https://www.indeed.com/rc/clk?jk=c27e8868688dbc16&bb=DGUfQVEJ0zRJcR3fZxzGnh4SntriOFW9_dDyHYvXHts7HxqG2AeO2EMmpcKylPib5U4YstRQZU2YNuB7iIeUfurRfryeRQS9oMMl3XROOPIaqf5gc2p4og%3D%3D&xkcb=SoDp67M36bD1-7wv6Z0HbzkdCdPP&fccid=978d9fd9799d55a8&vjs=3', 'title': 'Software Engineer- AI Data Governance'}, page_content='that data is reliable, traceable, and easily discoverable. Job Description: Your way to impact: How we work:Communication is key; we collaborate closely with other teams and prefer async communication, reserving meetings for necessary discussions.Engineers take ownership of their work, building, testing, releasing, and monitoring their code.Pair programming and daily stand-ups are integral to our process, ensuring continuous improvement through regular retrospectives.We foster an inclusive'),\n",
       " Document(metadata={'url': 'https://www.indeed.com/rc/clk?jk=2e6b992131585f28&bb=eMSLhjA9uv7WNxvHP6iyNgLU9-i8XlMubDUBcjD8ekIyfNs0csZY7bH9ajN7-IEODki2t7xDCyTj8XcpmwMpPKkNqYGGqZe0A175U9R2_-L-2Vl-Gm3fTg%3D%3D&xkcb=SoDy67M36bD247Sg2h0ObzkdCdPP&fccid=ba07516c418dda52&vjs=3', 'title': 'Data Analytics Engineer'}, page_content='data quality, data warehousing, data governance, data privacyExperience working with large scale data modelsExperience with at least one programming language (e.g., Python, C++, C#, Scala, R, etc.)Experience working in the high-volume consumer electronics industry, preferably in supply chain and operations functions.  About Meta: Meta builds technologies that help people connect, find communities, and grow businesses. When Facebook launched in 2004, it changed the way people connect. Apps like')]"
      ]
     },
     "execution_count": 32,
     "metadata": {},
     "output_type": "execute_result"
    }
   ],
   "source": [
    "retriever.invoke(resume_text)"
   ]
  },
  {
   "cell_type": "code",
   "execution_count": null,
   "metadata": {},
   "outputs": [],
   "source": []
  }
 ],
 "metadata": {
  "kernelspec": {
   "display_name": "py310Venv",
   "language": "python",
   "name": "python3"
  },
  "language_info": {
   "codemirror_mode": {
    "name": "ipython",
    "version": 3
   },
   "file_extension": ".py",
   "mimetype": "text/x-python",
   "name": "python",
   "nbconvert_exporter": "python",
   "pygments_lexer": "ipython3",
   "version": "3.10.15"
  }
 },
 "nbformat": 4,
 "nbformat_minor": 2
}
