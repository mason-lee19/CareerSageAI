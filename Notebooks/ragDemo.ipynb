{
 "cells": [
  {
   "cell_type": "code",
   "execution_count": 11,
   "metadata": {},
   "outputs": [],
   "source": [
    "import joblib\n",
    "import json\n",
    "from typing import List\n",
    "import sqlite3\n",
    "import numpy as np\n",
    "import pandas as pd\n",
    "import os\n",
    "from dotenv import load_dotenv\n",
    "import ollama\n",
    "import unicodedata\n",
    "from langchain.docstore.document import Document\n",
    "from langchain.document_loaders.base import BaseLoader\n",
    "from langchain.embeddings.base import Embeddings\n",
    "from langchain.vectorstores import FAISS\n",
    "from langchain.text_splitter import RecursiveCharacterTextSplitter, CharacterTextSplitter\n",
    "from langchain.llms import Ollama\n",
    "from langchain.chains import RetrievalQA"
   ]
  },
  {
   "cell_type": "code",
   "execution_count": 33,
   "metadata": {},
   "outputs": [],
   "source": [
    "class DataBaseLoader():\n",
    "    def __init__(self,file_path,table_name):\n",
    "        self.file_path = file_path\n",
    "        self.table_name = table_name\n",
    "\n",
    "        self.conn = sqlite3.connect(self.file_path)\n",
    "        self.cursor = self.conn.cursor()\n",
    "\n",
    "    def load(self) -> pd.DataFrame:\n",
    "        query = f\"SELECT * FROM {self.table_name}\"\n",
    "        df = pd.read_sql_query(query, self.conn)\n",
    "\n",
    "        documents = []\n",
    "        for idx,row in df.iterrows():\n",
    "            content = row['jobDetails']\n",
    "            metadata = {\n",
    "                \"url\":row['jobLink'],\n",
    "                \"title\":row['jobTitle']\n",
    "            }\n",
    "            documents.append(Document(page_content=content,metadata=metadata))\n",
    "\n",
    "        return documents\n",
    "\n",
    "    \n",
    "\n",
    "dbLoader = DataBaseLoader('../data/db.db','job_data')\n",
    "documents = dbLoader.load()"
   ]
  },
  {
   "cell_type": "code",
   "execution_count": 34,
   "metadata": {},
   "outputs": [],
   "source": [
    "class OllamaEmbeddings(Embeddings):\n",
    "    def __init__(self,model=\"mxbai-embed-large\"):\n",
    "        self.model=model\n",
    "\n",
    "    def embed_documents(self,texts):\n",
    "        return [self.embed_query(text) for text in texts]\n",
    "    \n",
    "    def embed_query(self,text):\n",
    "        response = ollama.embeddings(model=self.model,prompt=text.replace(u'\\u00a0',u' '))\n",
    "        return response[\"embedding\"]"
   ]
  },
  {
   "cell_type": "code",
   "execution_count": 35,
   "metadata": {},
   "outputs": [],
   "source": [
    "text_splitter = CharacterTextSplitter(chunk_size=200,chunk_overlap=10)\n",
    "texts=text_splitter.split_documents(documents)"
   ]
  },
  {
   "cell_type": "code",
   "execution_count": 36,
   "metadata": {},
   "outputs": [],
   "source": [
    "text_splitter = RecursiveCharacterTextSplitter(\n",
    "    chunk_size=500,\n",
    "    chunk_overlap=20,\n",
    "    length_function=len,\n",
    "    separators=[\"\\n\\n\",\"\\n\",\" \",\"\"]\n",
    ")\n",
    "texts = text_splitter.split_documents(documents)"
   ]
  },
  {
   "cell_type": "markdown",
   "metadata": {},
   "source": [
    "#### To use ollama embeddings\n",
    "- Downloaded ollama locally https://github.com/ollama/ollama?tab=readme-ov-file\n",
    "- pulled model locally > ollama pull mxbai-embed-large"
   ]
  },
  {
   "cell_type": "code",
   "execution_count": 37,
   "metadata": {},
   "outputs": [],
   "source": [
    "embeddings = OllamaEmbeddings()\n",
    "\n",
    "vector_store = FAISS.from_documents(texts,embeddings)"
   ]
  },
  {
   "cell_type": "code",
   "execution_count": 38,
   "metadata": {},
   "outputs": [],
   "source": [
    "retriever = vector_store.as_retriever()\n",
    "retriever = vector_store.as_retriever(search_type='mmr',search_kwargs={'k':10})"
   ]
  },
  {
   "cell_type": "code",
   "execution_count": 25,
   "metadata": {},
   "outputs": [],
   "source": [
    "import PyPDF2\n",
    "import re"
   ]
  },
  {
   "cell_type": "code",
   "execution_count": 39,
   "metadata": {},
   "outputs": [],
   "source": [
    "def read_resume(file_path):\n",
    "    with open(file_path, 'rb') as file:\n",
    "        reader = PyPDF2.PdfReader(file)\n",
    "        text = ''\n",
    "        for page_num in range(len(reader.pages)):\n",
    "            text += reader.pages[page_num].extract_text()\n",
    "    return text\n",
    "\n",
    "def clean_text(text):\n",
    "    text = re.sub(r'[^a-zA-Z0-9\\s]','',text)\n",
    "    text = re.sub(r'\\xa0','',text)\n",
    "    return text\n",
    "\n",
    "resume_text = clean_text(read_resume('../data/MasonLee_Resume.pdf'))"
   ]
  },
  {
   "cell_type": "code",
   "execution_count": 40,
   "metadata": {},
   "outputs": [
    {
     "data": {
      "text/plain": [
       "[Document(metadata={'url': 'https://www.indeed.com/rc/clk?jk=12cb745cf83b9368&bb=ya6PoQ6fnjkZ3am6mlWSEpBod3lA1vGvNqCGgtBUPojdygrrsSuACEpMz169Y-xLACSylxal7sLSIPjO_IE_DjRz-P56-TezCSvosIRPPJvxRtrY5l2XEQ%3D%3D&xkcb=SoDr67M36galKCxwTR0JbzkdCdPP&fccid=c1099851e9794854&vjs=3', 'title': 'Senior Data Scientist, Input Experience Analytics'}, page_content='of algorithms like Inline Prediction and Proofread Understanding feature usage, such as engagement with Image Playground Mining user feedback data to identify model soft spots  Master’s degree or PhD in Data Science, Statistics, Engineering or other technical field, plus 7+ years of proven experience building data-driven solutions to solve business problems, especially around launching of new products and servicesSolid experience with computer vision machine learningA deep passion for'),\n",
       " Document(metadata={'url': 'https://www.indeed.com/rc/clk?jk=da9280a719bdfee6&bb=Epx1km5SYOtU0_EeDU_HPe6LN3WNxWQ61htrtxdNEBNZWN31plc3I3wB4tAlnSOboHHMSbV37yitnFneBYwk7Dx0NXQroLv26jm-M2emXyi9GrjIp_25cfnudQyU6N7Y&xkcb=SoAt67M36galwHAOyD0DbzkdCdPP&fccid=9ee5c6d8daccfba4&vjs=3', 'title': 'Senior Staff, Data Scientist'}, page_content='will be part of an incubation team within this organization working on in-field telemetry intended to transform the Customer Quality Experience for Samsung memory products. Fault Management is the future of quality to minimize system downtime within AI/ML hardware deployments and workloads of the future. We analyze trends and patterns from enormous memory fleet telemetry to bucketize failures and perform virtual root-cause analysis. Telemetry analysis helps us design solutions to proactively'),\n",
       " Document(metadata={'url': 'https://www.indeed.com/rc/clk?jk=3bff2709da79c879&bb=gSUxxoIzYGJj3DlZyEMKudaqCJa_jJiBA-LlVv_KiR59arkXWudbYL5NWCuJKE_JKKFV3yurPJT1XbaDtFEX62j2WT4MzCM0G3ZAH6FbfP71578W16tkUidMYjsMvDM7&xkcb=SoC-67M36gaqQcxwU50BbzkdCdPP&fccid=43014b1412e0a7b6&vjs=3', 'title': 'Staff Data Scientist, Query Tools & Data Warehouse'}, page_content='of crafting high quality algorithmic code and identifying opportunities for efficiency and performance improvements.A mastery of SparkSQL/Presto/Hive.In-depth understanding of data warehousing, and big data-query tooling.Demonstrated execution and impact on cross-functional initiatives, strong communication skills, and a track record of influencing leaders and peers using data.Self-propelled continuous learner who keeps up with new tools and methodologies and builds prototypes with concepts'),\n",
       " Document(metadata={'url': 'https://www.indeed.com/rc/clk?jk=9535ecc7b799c383&bb=gSUxxoIzYGJj3DlZyEMKudFs6v3lxG5xjb-8YZaZ9IlZnkaUtpcyREWopg1dhr2Nwqn7imtf6gzEjJjPWp1uV9sGtjWt12t7NXkxx8A6Uv2J-wMN00pfsA%3D%3D&xkcb=SoAK67M36gaqQcxwU50AbzkdCdPP&fccid=66403b30a2c0d89c&vjs=3', 'title': 'Data Scientist (L5) - Live Discovery and Engagement'}, page_content='experimentation or other product analytics settings, are required to solve problems in consumer-facing product areas.Expertise in SQL and statistical programming (Python preferred).Experience with algorithms as a product (e.g. recommendation systems, ranking algorithms.) is a bonusExceptional communication with technical and non-technical audiences across a wide group of cross-functional stakeholders.Good judgment to balance between addressing stakeholder or test-specific needs and investing in'),\n",
       " Document(metadata={'url': 'https://www.indeed.com/rc/clk?jk=e081235b94689c6a&bb=GZZcrclawcw5Rurli242RUbiiDs1zB1ikrPAxsJusircebc_OALFyNUm5WPp68NMEjSRYoSOKPGPSJkJyaPnni3Hkp6eIIdZmLnBbNea4ied_4BjGVOSsVQ3_OslWdvI&xkcb=SoBD67M36gappkxQHZ0GbzkdCdPP&fccid=7d28c1874e2d22be&vjs=3', 'title': 'Fraud Risk Data Scientist'}, page_content='modeling, credit underwriting, portfolio monitoring and loss mitigation (fraud) to support new payment products. This individual will also design experiments to understand the impact of customer experience when leveraging machine learning in complex risk strategy changes. This position requires a person who has experience with developing machine learning models and performing advanced analytics preferably in the risk domain. We’d love to chat if you have:Minimum 2 years of industry experience'),\n",
       " Document(metadata={'url': 'https://www.indeed.com/rc/clk?jk=cef8e3b79bd43bd5&bb=jYnmbnk69GypI-TrwzTRUBI6IkXlSS_vqAMleMEQfwA43raRoVQmkJJ17n8cnvhDvQKxLLAU5ttG7uEgrQ1--T7qmgtqUrp-RlWnrLH5nA7PB5uwsF6-oKyd600OvG_Y&xkcb=SoBn67M36gan4ywrEJ0KbzkdCdPP&fccid=822bc5d9a49270ea&vjs=3', 'title': '(USA) Staff, Data Scientist'}, page_content='Engineers, working in small agile group to solve sophisticated and high impact problems. We are building smart data systems that ingest, model, and analyze massive flow of data from online and offline user activity. We use cutting edge machine learning, data mining and optimization algorithms on ad relevance, ranking and campaign optimization.Create and manage model serving inference solutions via NVIDIA Triton/vLLM for effective inference and the serving of expansive language models.Use Ray'),\n",
       " Document(metadata={'url': 'https://www.indeed.com/rc/clk?jk=25fc39674dc43d5e&bb=DGUfQVEJ0zRJcR3fZxzGnlHCVniLNORnl3NL-XTA4-i-jGsfT4xyvTsupoBS6hjUvqnXfYCDkzgAq2L78uwsdN4quFrWnXx-zPq9R2H4odjrRWSW3-kPGe1FMlmq7PGH&xkcb=SoDA67M36bD1-7wv6Z0FbzkdCdPP&fccid=4f46a80a0b4401fe&vjs=3', 'title': 'Staff Data Engineer'}, page_content='and determine the desired insights to extract. The ideal candidate will excel in translating business requirements into a technical roadmap and developing remarkable solutions to satisfy those needs.    Educational BackgroundB.S. degree in Computer Science, Software Engineering, Electrical Engineering, Bioengineering, or related technical fields involving algorithms or coding (e.g., Physics or Mathematics). Professional Experience10+ years of data engineering / software development experience'),\n",
       " Document(metadata={'url': 'https://www.indeed.com/rc/clk?jk=12cb745cf83b9368&bb=ya6PoQ6fnjkZ3am6mlWSEpBod3lA1vGvNqCGgtBUPojdygrrsSuACEpMz169Y-xLACSylxal7sLSIPjO_IE_DjRz-P56-TezCSvosIRPPJvxRtrY5l2XEQ%3D%3D&xkcb=SoDr67M36galKCxwTR0JbzkdCdPP&fccid=c1099851e9794854&vjs=3', 'title': 'Senior Data Scientist, Input Experience Analytics'}, page_content='deep passion for generative models and experience in using them to create applicationsStrong scripting language skills for data processing and development (e.g., Python), strong data-querying skills (SQL and/or Splunk, etc.), and experience with big dataDesigning A/B experiments and conducting statistical analysisProven experience working with Tableau or similar data visualization technologies as well as the ability to design striking and informative dashboards and reports  Preferred'),\n",
       " Document(metadata={'url': 'https://www.indeed.com/rc/clk?jk=37adb4c044fc1d5a&bb=iLpPYPcsYjoHzktK8C84LYBsxExEiXkKJ25lxWOkJfQjbLGI-c1be2Yat_-suV8v-JFx185654czWxsJEhja1B8s2hfGqbSO717tApO6eVoLLqQTqQ624iJgc9jdRuGl&xkcb=SoBK67M36gam-ZyJ850GbzkdCdPP&fccid=d2776a31bd03907b&vjs=3', 'title': 'Machine Learning Engineer, Early Stage Project'}, page_content='experience7+ years of on-the-job experience developing and training ML models for product use-casesProficiency in MLOps tasks such as deploying and versioning ML models in production environments and monitoring their performanceExperience doing win/loss analysis on model results and systematically finding efficient ways to boost wins and reduce lossesExperience with building data pipelines (e.g. Beam, Dataflow, Flume, Flink, Hadoop, Spark)Experience testing, maintaining or launching software'),\n",
       " Document(metadata={'url': 'https://www.indeed.com/rc/clk?jk=75c2c9f7f39043f7&bb=D8psl9jyG3SYZSCBUhIjI-K5ErNTEl3XbQgnSLXlDals_8oawVvngdftlrDq2yi7Zsfw7riQ_1v4BEah5HBFvjXkdKbqE_yZbW4pflVfWcR_TQPqMJjK3g%3D%3D&xkcb=SoCn67M36gaognRwU50NbzkdCdPP&fccid=66403b30a2c0d89c&vjs=3', 'title': 'Data Science Manager - Engineering'}, page_content='You haveExperience hiring and leading high-caliber, data-focused teams with varying technical strengths across analytics, experimentation and machine learningExperience creating and fostering an inclusive team cultureExperience partnering with technical engineering or product teamsDemonstrated strength for applying statistics and experimentation to solve problemsStrength in independently finding opportunities and executing on science and analytics challenges for maximum business impactOur')]"
      ]
     },
     "execution_count": 40,
     "metadata": {},
     "output_type": "execute_result"
    }
   ],
   "source": [
    "retriever.invoke(resume_text)"
   ]
  },
  {
   "cell_type": "code",
   "execution_count": null,
   "metadata": {},
   "outputs": [],
   "source": []
  }
 ],
 "metadata": {
  "kernelspec": {
   "display_name": "py310Venv",
   "language": "python",
   "name": "python3"
  },
  "language_info": {
   "codemirror_mode": {
    "name": "ipython",
    "version": 3
   },
   "file_extension": ".py",
   "mimetype": "text/x-python",
   "name": "python",
   "nbconvert_exporter": "python",
   "pygments_lexer": "ipython3",
   "version": "3.10.15"
  }
 },
 "nbformat": 4,
 "nbformat_minor": 2
}
